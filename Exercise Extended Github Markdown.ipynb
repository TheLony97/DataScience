{
 "cells": [
  {
   "cell_type": "markdown",
   "metadata": {},
   "source": [
    "<!-- headings -->\n",
    "# Markdown Tutorial"
   ]
  },
  {
   "cell_type": "markdown",
   "metadata": {},
   "source": [
    "### This is a list of Blockquotes\n",
    "> ~~Strikethrough~~\n",
    "\n",
    "> Horizontal Rule \n",
    "\n",
    "---\n",
    "___\n",
    "\n",
    "> Italics *This is italic*\n",
    "\n",
    "> Bold  **This text is bold**\n",
    "\n",
    "> Links Text in Brackets - Link in Parantheses [\"Hello World\"](http://www.google.de)"
   ]
  },
  {
   "cell_type": "markdown",
   "metadata": {},
   "source": [
    "### Second List of Blockquotes\n",
    "###### Orderd List\n",
    "1. Jesus\n",
    "1. Simon\n",
    "1. Patirck\n",
    "\n",
    "\n",
    "\n",
    "\n",
    "###### Im an unorderd List\n",
    "* Meine Freund\n",
    "* Meine Eltern\n",
    "    * Neted Item\n",
    "* Meine Professoren\n",
    "\n",
    "[LinkText](https://www.google.de \"Google\")\n",
    "\n",
    "`<p> Hello </p>`"
   ]
  },
  {
   "cell_type": "markdown",
   "metadata": {},
   "source": [
    "![Python-Logo](https://th.bing.com/th/id/OIP.8AjxN0zjW0u8Y2t-hgdSXQHaEK?w=300&h=168&c=7&o=5&dpr=1.35&pid=1.7)"
   ]
  },
  {
   "cell_type": "markdown",
   "metadata": {},
   "source": [
    "```bash\n",
    "ls -la\n",
    "\n",
    "```"
   ]
  },
  {
   "cell_type": "markdown",
   "metadata": {},
   "source": [
    "```python\n",
    "for e in range(0,10):\n",
    "    print(e)\n",
    "```"
   ]
  },
  {
   "cell_type": "markdown",
   "metadata": {},
   "source": [
    "* [x] Task1\n",
    "* [] Task2 "
   ]
  },
  {
   "cell_type": "markdown",
   "metadata": {},
   "source": [
    "##### Tables in Markdown\n",
    "| Name | Email |\n",
    "| --- | --- |\n",
    "| John | john.dow@gmail.com |"
   ]
  },
  {
   "cell_type": "markdown",
   "metadata": {},
   "source": []
  }
 ],
 "metadata": {
  "kernelspec": {
   "display_name": "Python 3",
   "language": "python",
   "name": "python3"
  },
  "language_info": {
   "codemirror_mode": {
    "name": "ipython",
    "version": 3
   },
   "file_extension": ".py",
   "mimetype": "text/x-python",
   "name": "python",
   "nbconvert_exporter": "python",
   "pygments_lexer": "ipython3",
   "version": "3.7.6"
  }
 },
 "nbformat": 4,
 "nbformat_minor": 4
}
